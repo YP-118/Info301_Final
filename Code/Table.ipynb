{
  "nbformat": 4,
  "nbformat_minor": 0,
  "metadata": {
    "colab": {
      "provenance": []
    },
    "kernelspec": {
      "name": "python3",
      "display_name": "Python 3"
    },
    "language_info": {
      "name": "python"
    }
  },
  "cells": [
    {
      "cell_type": "code",
      "source": [
        "\n",
        "import pandas as pd\n",
        "from pyecharts import options as opts\n",
        "from pyecharts.charts import Bar, Tab\n",
        "from pyecharts.globals import ThemeType\n",
        "\n",
        "# Load your CSV data\n",
        "data = pd.read_csv('/content/INFO301 DATA.csv')  # Replace with the actual path to your CSV\n",
        "\n",
        "\n",
        "\n",
        "\n",
        "# Status labels\n",
        "status_labels = {0: 'Not Enough Datasets', 1: 'Not Checked Yet', 2: 'Plotted'}\n",
        "\n",
        "# Add the status labels to the data\n",
        "data['status_label'] = data[data.columns[2]].map(status_labels)\n",
        "\n",
        "# Filter data for each status group\n",
        "data_non_zero = data[data[data.columns[1]] > 0]  # Countries with datasets > 0\n",
        "data_finished = data_non_zero[data_non_zero['status_label'] == 'Plotted']  # Countries that are finished\n",
        "data_working = data_non_zero[data_non_zero['status_label'] == 'Not Checked Yet']  # Countries still working on\n",
        "data_not_enough = data[(data[data.columns[1]] > 0) & (data[data.columns[2]] == 0)]  # Countries with status 0 and datasets > 0\n",
        "\n",
        "# Additional: Countries without datasets at all (status 0 or datasets == 0)\n",
        "countries_without_datasets = data[data[data.columns[1]] == 0]  # Countries with 0 datasets\n",
        "\n",
        "# Create the Tab object for different categories\n",
        "tab = Tab()\n",
        "\n",
        "# Function to create a bar chart for each category, ranked by the number of datasets\n",
        "def create_bar_chart(data, title):\n",
        "    country_data = data.groupby(data.columns[0])[data.columns[1]].sum()  # Sum the number of datasets for each country\n",
        "    country_data_sorted = country_data.sort_values(ascending=False)  # Rank by number of datasets in descending order\n",
        "    bar = (\n",
        "        Bar(init_opts=opts.InitOpts(theme=ThemeType.CHALK))\n",
        "        .add_xaxis(country_data_sorted.index.tolist())\n",
        "        .add_yaxis(\"Number of Datasets\", country_data_sorted.values.tolist())\n",
        "        .set_global_opts(\n",
        "            title_opts=opts.TitleOpts(title=title),\n",
        "            xaxis_opts=opts.AxisOpts(name=\"Country\"),\n",
        "            yaxis_opts=opts.AxisOpts(name=\"Number of Datasets\")\n",
        "        )\n",
        "    )\n",
        "    return bar\n",
        "\n",
        "# Add bar charts for each category\n",
        "tab.add(create_bar_chart(data_non_zero, \"Countries with Datasets > 0\"), \"Datasets > 0\")\n",
        "tab.add(create_bar_chart(data_finished, \"Finished Countries (Plotted)\"), \"Finished\")\n",
        "tab.add(create_bar_chart(data_working, \"Working on Countries (Not Checked Yet)\"), \"Working on\")\n",
        "\n",
        "# Countries with status 0 and datasets > 0\n",
        "tab.add(create_bar_chart(data_not_enough, \"Countries Without Enough Data (Status 0 and Datasets > 0)\"), \"Not Enough Data (Excluding 0 Datasets)\")\n",
        "\n",
        "# New tab: Countries without datasets at all (just a simple list, no bar chart)\n",
        "countries_without_datasets_list = countries_without_datasets[data.columns[0]].unique().tolist()\n",
        "\n",
        "# List the countries without datasets in a new tab (no bar chart)\n",
        "countries_count = len(countries_without_datasets_list)\n",
        "table = (\n",
        "    Bar(init_opts=opts.InitOpts(theme=ThemeType.CHALK))\n",
        "    .add_xaxis([\"Countries without Datasets\"])\n",
        "    .add_yaxis(\"Count\", [countries_count])\n",
        "    .set_global_opts(\n",
        "        title_opts=opts.TitleOpts(title=\"Countries Without Datasets At All\"),\n",
        "        xaxis_opts=opts.AxisOpts(name=\"No Datasets\"),\n",
        "        yaxis_opts=opts.AxisOpts(name=\"Number of Countries\")\n",
        "    )\n",
        ")\n",
        "\n",
        "tab.add(table, \"Countries Without Datasets At All\")\n",
        "\n",
        "# Render the tab as an HTML file\n",
        "tab.render('table.html')\n",
        "\n",
        "print(\"Interactive pyecharts tabs generated and saved as 'countries_status_tabs_5.html'\")\n",
        "\n",
        "\n",
        "\n"
      ],
      "metadata": {
        "colab": {
          "base_uri": "https://localhost:8080/"
        },
        "id": "7xuVb7IsdoXv",
        "outputId": "2d519a19-48b0-4bc3-bd3e-f3ae92e325cd"
      },
      "execution_count": null,
      "outputs": [
        {
          "output_type": "stream",
          "name": "stdout",
          "text": [
            "Interactive pyecharts tabs generated and saved as 'countries_status_tabs_5.html'\n"
          ]
        }
      ]
    }
  ]
}